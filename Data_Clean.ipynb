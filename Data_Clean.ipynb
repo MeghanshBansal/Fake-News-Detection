{
 "cells": [
  {
   "cell_type": "code",
   "execution_count": 1,
   "id": "c994dd7e-c066-410b-9b80-dc80da052d86",
   "metadata": {},
   "outputs": [],
   "source": [
    "import pandas as pd \n",
    "import matplotlib.pyplot as plt \n",
    "import seaborn as sns\n",
    "import numpy as np \n",
    "import nltk\n",
    "from nltk.stem import PorterStemmer\n",
    "from nltk.tokenize import word_tokenize\n",
    "import os\n",
    "from collections import Counter\n",
    "import shutil"
   ]
  },
  {
   "cell_type": "markdown",
   "id": "51dcdf0a-813a-49e1-aa48-d90f3e43383f",
   "metadata": {},
   "source": [
    "## Reading files"
   ]
  },
  {
   "cell_type": "code",
   "execution_count": 2,
   "id": "00cbe085-5190-4ee0-8bef-3d1bb93b74c2",
   "metadata": {},
   "outputs": [],
   "source": [
    "read_dir = os.path.join(os.getcwd(), 'selected_data')\n",
    "\n",
    "train_path = os.path.join(read_dir, 'train.csv')\n",
    "test_path = os.path.join(read_dir, 'test.csv')\n",
    "valid_path = os.path.join(read_dir, 'valid.csv')"
   ]
  },
  {
   "cell_type": "code",
   "execution_count": 3,
   "id": "4e9fc42a-7429-4dee-860f-454e8ac0dea5",
   "metadata": {},
   "outputs": [],
   "source": [
    "train = pd.read_csv(train_path)\n",
    "test = pd.read_csv(test_path)\n",
    "valid = pd.read_csv(valid_path)\n",
    "\n",
    "train_copy = train.copy()\n",
    "test_copy = test.copy()\n",
    "valid_copy = train.copy()"
   ]
  },
  {
   "cell_type": "markdown",
   "id": "9a49d164-9c87-4e00-a670-6bca28f3001d",
   "metadata": {},
   "source": [
    "## Data Observation"
   ]
  },
  {
   "cell_type": "code",
   "execution_count": 4,
   "id": "5a2944c9-9caa-453e-9912-fd78f665a51f",
   "metadata": {},
   "outputs": [],
   "source": [
    "def obs(train, test, valid):\n",
    "    print(\"Training Dataset\")\n",
    "    print(train.info())\n",
    "    print(train.head())\n",
    "    print(\"\\n\\n\")\n",
    "    print(\"Testing Dataset\")\n",
    "    print(test.info())\n",
    "    print(test.head())\n",
    "    print(\"\\n\\n\")\n",
    "    print(\"Validation Dataset\")\n",
    "    print(valid.info())\n",
    "    print(valid.head())\n",
    "    print(\"\\n\\n\")"
   ]
  },
  {
   "cell_type": "code",
   "execution_count": 5,
   "id": "d4710d7b-8154-46b0-8eac-dba5604bfbbf",
   "metadata": {},
   "outputs": [
    {
     "name": "stdout",
     "output_type": "stream",
     "text": [
      "Training Dataset\n",
      "<class 'pandas.core.frame.DataFrame'>\n",
      "RangeIndex: 10240 entries, 0 to 10239\n",
      "Data columns (total 2 columns):\n",
      " #   Column     Non-Null Count  Dtype \n",
      "---  ------     --------------  ----- \n",
      " 0   label      10240 non-null  object\n",
      " 1   statement  10240 non-null  object\n",
      "dtypes: object(2)\n",
      "memory usage: 160.1+ KB\n",
      "None\n",
      "         label                                          statement\n",
      "0        false  Says the Annies List political group supports ...\n",
      "1    half-true  When did the decline of coal start? It started...\n",
      "2  mostly-true  Hillary Clinton agrees with John McCain \"by vo...\n",
      "3        false  Health care reform legislation is likely to ma...\n",
      "4    half-true  The economic turnaround started at the end of ...\n",
      "\n",
      "\n",
      "\n",
      "Testing Dataset\n",
      "<class 'pandas.core.frame.DataFrame'>\n",
      "RangeIndex: 1267 entries, 0 to 1266\n",
      "Data columns (total 2 columns):\n",
      " #   Column     Non-Null Count  Dtype \n",
      "---  ------     --------------  ----- \n",
      " 0   label      1267 non-null   object\n",
      " 1   statement  1267 non-null   object\n",
      "dtypes: object(2)\n",
      "memory usage: 19.9+ KB\n",
      "None\n",
      "        label                                          statement\n",
      "0        true  Building a wall on the U.S.-Mexico border will...\n",
      "1       false  Wisconsin is on pace to double the number of l...\n",
      "2       false  Says John McCain has done nothing to help the ...\n",
      "3   half-true  Suzanne Bonamici supports a plan that will cut...\n",
      "4  pants-fire  When asked by a reporter whether hes at the ce...\n",
      "\n",
      "\n",
      "\n",
      "Validation Dataset\n",
      "<class 'pandas.core.frame.DataFrame'>\n",
      "RangeIndex: 1284 entries, 0 to 1283\n",
      "Data columns (total 2 columns):\n",
      " #   Column     Non-Null Count  Dtype \n",
      "---  ------     --------------  ----- \n",
      " 0   label      1284 non-null   object\n",
      " 1   statement  1284 non-null   object\n",
      "dtypes: object(2)\n",
      "memory usage: 20.2+ KB\n",
      "None\n",
      "         label                                          statement\n",
      "0  barely-true  We have less Americans working now than in the...\n",
      "1   pants-fire  When Obama was sworn into office, he DID NOT u...\n",
      "2        false  Says Having organizations parading as being so...\n",
      "3    half-true     Says nearly half of Oregons children are poor.\n",
      "4    half-true  On attacks by Republicans that various program...\n",
      "\n",
      "\n",
      "\n"
     ]
    }
   ],
   "source": [
    "obs(train, test, valid)"
   ]
  },
  {
   "cell_type": "markdown",
   "id": "520fe8d1-e1c2-4d6b-b44c-e0621f001f11",
   "metadata": {},
   "source": [
    "## Create Distribution"
   ]
  },
  {
   "cell_type": "code",
   "execution_count": 6,
   "id": "fc9bbed5-d28d-416f-ab69-aabe391f3dc5",
   "metadata": {},
   "outputs": [],
   "source": [
    "def distribution(data, name):\n",
    "    sns.countplot(x='label', data=data, palette='hls').set(title=name)"
   ]
  },
  {
   "cell_type": "code",
   "execution_count": 7,
   "id": "223f5a71-de23-4063-945c-4b4ccdd43d2b",
   "metadata": {},
   "outputs": [
    {
     "data": {
      "image/png": "[encoded data removed]",
      "text/plain": [
       "<Figure size 432x288 with 1 Axes>"
      ]
     },
     "metadata": {
      "needs_background": "light"
     },
     "output_type": "display_data"
    }
   ],
   "source": [
    "distribution(train, \"Train\")"
   ]
  },
  {
   "cell_type": "code",
   "execution_count": 8,
   "id": "be19ca94-0ee7-4d99-a388-a8334c8922b9",
   "metadata": {},
   "outputs": [
    {
     "data": {
      "image/png": "[encoded data removed]",
      "text/plain": [
       "<Figure size 432x288 with 1 Axes>"
      ]
     },
     "metadata": {
      "needs_background": "light"
     },
     "output_type": "display_data"
    }
   ],
   "source": [
    "distribution(test, \"Test\")"
   ]
  },
  {
   "cell_type": "code",
   "execution_count": 9,
   "id": "32fb9b17-a31e-4ca0-9eb2-d0fc1b315aa5",
   "metadata": {},
   "outputs": [
    {
     "data": {
      "image/png": "[encoded data removed]",
      "text/plain": [
       "<Figure size 432x288 with 1 Axes>"
      ]
     },
     "metadata": {
      "needs_background": "light"
     },
     "output_type": "display_data"
    }
   ],
   "source": [
    "distribution(valid, \"Validation\")"
   ]
  },
  {
   "cell_type": "markdown",
   "id": "6c4c7ac0-23f7-4e50-b770-89465957a550",
   "metadata": {},
   "source": [
    "## Check Quality"
   ]
  },
  {
   "cell_type": "code",
   "execution_count": 10,
   "id": "cf035b0d-7ff1-4387-a2a2-2bf0bc11e23d",
   "metadata": {},
   "outputs": [],
   "source": [
    "def quality(data, name):\n",
    "    sns.heatmap(data.isnull(), cmap=\"YlGnBu\").set(title=f'Null Values in {name}')\n",
    "    plt.show()\n",
    "    print(data.describe())\n",
    "    print(data['label'].unique())"
   ]
  },
  {
   "cell_type": "code",
   "execution_count": 11,
   "id": "20e1f1a9-932f-4e7d-8f36-34cec335a061",
   "metadata": {},
   "outputs": [
    {
     "data": {
      "image/png": "[encoded data removed]",
      "text/plain": [
       "<Figure size 432x288 with 2 Axes>"
      ]
     },
     "metadata": {
      "needs_background": "light"
     },
     "output_type": "display_data"
    },
    {
     "name": "stdout",
     "output_type": "stream",
     "text": [
      "            label                                          statement\n",
      "count       10240                                              10240\n",
      "unique          6                                              10223\n",
      "top     half-true  On changing the rules for filibusters on presi...\n",
      "freq         2114                                                  3\n",
      "['false' 'half-true' 'mostly-true' 'true' 'barely-true' 'pants-fire']\n"
     ]
    }
   ],
   "source": [
    "quality(train, name=\"Train\")"
   ]
  },
  {
   "cell_type": "code",
   "execution_count": 12,
   "id": "729e4776-bb6e-4a5f-a834-9f165939e226",
   "metadata": {},
   "outputs": [
    {
     "data": {
      "image/png": "[encoded data removed]",
      "text/plain": [
       "<Figure size 432x288 with 2 Axes>"
      ]
     },
     "metadata": {
      "needs_background": "light"
     },
     "output_type": "display_data"
    },
    {
     "name": "stdout",
     "output_type": "stream",
     "text": [
      "            label                                          statement\n",
      "count        1267                                               1267\n",
      "unique          6                                               1267\n",
      "top     half-true  Building a wall on the U.S.-Mexico border will...\n",
      "freq          265                                                  1\n",
      "['true' 'false' 'half-true' 'pants-fire' 'barely-true' 'mostly-true']\n"
     ]
    }
   ],
   "source": [
    "quality(test, name=\"Test\")"
   ]
  },
  {
   "cell_type": "code",
   "execution_count": 13,
   "id": "58e709c2-c776-4c34-b849-0b99a63ca12d",
   "metadata": {},
   "outputs": [
    {
     "data": {
      "image/png": "[encoded data removed]",
      "text/plain": [
       "<Figure size 432x288 with 2 Axes>"
      ]
     },
     "metadata": {
      "needs_background": "light"
     },
     "output_type": "display_data"
    },
    {
     "name": "stdout",
     "output_type": "stream",
     "text": [
      "        label                                          statement\n",
      "count    1284                                               1284\n",
      "unique      6                                               1284\n",
      "top     false  We have less Americans working now than in the...\n",
      "freq      263                                                  1\n",
      "['barely-true' 'pants-fire' 'false' 'half-true' 'true' 'mostly-true']\n"
     ]
    }
   ],
   "source": [
    "quality(valid, name=\"Validation\")"
   ]
  },
  {
   "cell_type": "markdown",
   "id": "c8f28218-1917-4a30-8c3b-7b5028e6a72f",
   "metadata": {},
   "source": [
    "## Preprocessing"
   ]
  },
  {
   "cell_type": "code",
   "execution_count": 14,
   "id": "6e1b74aa-52bf-4f08-a500-9025c54495f7",
   "metadata": {},
   "outputs": [],
   "source": [
    "eng_stemmer = PorterStemmer()\n",
    "stopwords = set(nltk.corpus.stopwords.words('english'))"
   ]
  },
  {
   "cell_type": "markdown",
   "id": "87e7a5bc-0f2d-452d-8af6-b6cd99f5b2e3",
   "metadata": {},
   "source": [
    "#### Most Used words"
   ]
  },
  {
   "cell_type": "code",
   "execution_count": 15,
   "id": "42481362-6dcb-429e-a148-b5f9e16a00f9",
   "metadata": {},
   "outputs": [],
   "source": [
    "words = []\n",
    "for data in [train, test, valid]:\n",
    "    all_words = ' '.join(data['statement'].values)\n",
    "    tokens = list(word_tokenize(all_words))\n",
    "    words.extend(tokens)"
   ]
  },
  {
   "cell_type": "code",
   "execution_count": 16,
   "id": "41992414-d31d-49b7-9859-5a540a3963ce",
   "metadata": {},
   "outputs": [],
   "source": [
    "word_counting = Counter(words)"
   ]
  },
  {
   "cell_type": "code",
   "execution_count": 17,
   "id": "a335e9b5-2a94-478d-9960-b2c1bfc93eb1",
   "metadata": {},
   "outputs": [],
   "source": [
    "word_counting = (sorted(word_counting.items(), key=lambda x: x[1], reverse=True))"
   ]
  },
  {
   "cell_type": "code",
   "execution_count": 18,
   "id": "ddbf920f-5f6b-49eb-9d02-3e0f3e79fe39",
   "metadata": {},
   "outputs": [
    {
     "data": {
      "text/plain": [
       "16881"
      ]
     },
     "execution_count": 18,
     "metadata": {},
     "output_type": "execute_result"
    }
   ],
   "source": [
    "len(word_counting)"
   ]
  },
  {
   "cell_type": "code",
   "execution_count": 19,
   "id": "ca8c86db-9e8c-4ac5-aeff-c51e5b740ef3",
   "metadata": {},
   "outputs": [
    {
     "data": {
      "text/plain": [
       "[('.', 14318),\n",
       " ('the', 10676),\n",
       " (',', 6711),\n",
       " ('of', 5979),\n",
       " ('in', 5841),\n",
       " ('to', 5578),\n",
       " ('a', 4336),\n",
       " ('and', 3462),\n",
       " ('Says', 2822),\n",
       " ('for', 2534),\n",
       " ('that', 2280),\n",
       " ('is', 2263),\n",
       " ('$', 1627),\n",
       " ('on', 1610),\n",
       " ('The', 1607),\n",
       " ('has', 1600),\n",
       " ('have', 1566),\n",
       " ('percent', 1500)]"
      ]
     },
     "execution_count": 19,
     "metadata": {},
     "output_type": "execute_result"
    }
   ],
   "source": [
    "word_counting[:18]"
   ]
  },
  {
   "cell_type": "code",
   "execution_count": 20,
   "id": "04083cb0-1d3a-4fea-b32b-9d2f35acfbcb",
   "metadata": {},
   "outputs": [],
   "source": [
    "common_words=[word[0].lower() for word in word_counting[:18]]"
   ]
  },
  {
   "cell_type": "code",
   "execution_count": 21,
   "id": "dc005b20-b10b-4953-a347-de217c776ee9",
   "metadata": {},
   "outputs": [],
   "source": [
    "def preprocess(data, exclude_stop_words=True, stem=True):\n",
    "    tokens =list(word_tokenize(data))\n",
    "    stemmed_tokens = [str(eng_stemmer.stem(word.lower())) for word in tokens if word.lower() not in stopwords and word.lower() not in common_words]\n",
    "    return ' '.join(stemmed_tokens)"
   ]
  },
  {
   "cell_type": "code",
   "execution_count": 22,
   "id": "1b7909c8-4542-48f4-b1ca-ba0e6b0c3fa7",
   "metadata": {},
   "outputs": [],
   "source": [
    "def clean_statement(dataset):\n",
    "    for i, v in dataset.iterrows():\n",
    "        dataset['statement'][i] = preprocess(dataset['statement'][i])\n",
    "    return dataset"
   ]
  },
  {
   "cell_type": "code",
   "execution_count": 23,
   "id": "459d96c0-b5f4-4bbc-9a23-f1709a04b5c5",
   "metadata": {},
   "outputs": [
    {
     "data": {
      "text/html": [
       "<div>\n",
       "<style scoped>\n",
       "    .dataframe tbody tr th:only-of-type {\n",
       "        vertical-align: middle;\n",
       "    }\n",
       "\n",
       "    .dataframe tbody tr th {\n",
       "        vertical-align: top;\n",
       "    }\n",
       "\n",
       "    .dataframe thead th {\n",
       "        text-align: right;\n",
       "    }\n",
       "</style>\n",
       "<table border=\"1\" class=\"dataframe\">\n",
       "  <thead>\n",
       "    <tr style=\"text-align: right;\">\n",
       "      <th></th>\n",
       "      <th>label</th>\n",
       "      <th>statement</th>\n",
       "    </tr>\n",
       "  </thead>\n",
       "  <tbody>\n",
       "    <tr>\n",
       "      <th>0</th>\n",
       "      <td>false</td>\n",
       "      <td>anni list polit group support third-trimest ab...</td>\n",
       "    </tr>\n",
       "    <tr>\n",
       "      <th>1</th>\n",
       "      <td>half-true</td>\n",
       "      <td>declin coal start ? start natur ga took start ...</td>\n",
       "    </tr>\n",
       "    <tr>\n",
       "      <th>2</th>\n",
       "      <td>mostly-true</td>\n",
       "      <td>hillari clinton agre john mccain `` vote give ...</td>\n",
       "    </tr>\n",
       "    <tr>\n",
       "      <th>3</th>\n",
       "      <td>false</td>\n",
       "      <td>health care reform legisl like mandat free sex...</td>\n",
       "    </tr>\n",
       "    <tr>\n",
       "      <th>4</th>\n",
       "      <td>half-true</td>\n",
       "      <td>econom turnaround start end term</td>\n",
       "    </tr>\n",
       "  </tbody>\n",
       "</table>\n",
       "</div>"
      ],
      "text/plain": [
       "         label                                          statement\n",
       "0        false  anni list polit group support third-trimest ab...\n",
       "1    half-true  declin coal start ? start natur ga took start ...\n",
       "2  mostly-true  hillari clinton agre john mccain `` vote give ...\n",
       "3        false  health care reform legisl like mandat free sex...\n",
       "4    half-true                   econom turnaround start end term"
      ]
     },
     "execution_count": 23,
     "metadata": {},
     "output_type": "execute_result"
    }
   ],
   "source": [
    "data = clean_statement(train)\n",
    "data.head()"
   ]
  },
  {
   "cell_type": "code",
   "execution_count": 24,
   "id": "2925c00c-a249-4373-b3cf-9d36b95ec049",
   "metadata": {},
   "outputs": [],
   "source": [
    "clean_train = clean_statement(train)\n",
    "clean_test = clean_statement(test)\n",
    "clean_valid = clean_statement(valid)"
   ]
  },
  {
   "cell_type": "code",
   "execution_count": 25,
   "id": "6417c558-29bc-4629-8947-1e3fd2229718",
   "metadata": {},
   "outputs": [
    {
     "name": "stdout",
     "output_type": "stream",
     "text": [
      "Training Dataset\n",
      "<class 'pandas.core.frame.DataFrame'>\n",
      "RangeIndex: 10240 entries, 0 to 10239\n",
      "Data columns (total 2 columns):\n",
      " #   Column     Non-Null Count  Dtype \n",
      "---  ------     --------------  ----- \n",
      " 0   label      10240 non-null  object\n",
      " 1   statement  10240 non-null  object\n",
      "dtypes: object(2)\n",
      "memory usage: 160.1+ KB\n",
      "None\n",
      "         label                                          statement\n",
      "0        false  anni list polit group support third-trimest ab...\n",
      "1    half-true  declin coal start ? start natur ga took start ...\n",
      "2  mostly-true  hillari clinton agr john mccain `` vote give g...\n",
      "3        false  health care reform legisl like mandat free sex...\n",
      "4    half-true                   econom turnaround start end term\n",
      "\n",
      "\n",
      "\n",
      "Testing Dataset\n",
      "<class 'pandas.core.frame.DataFrame'>\n",
      "RangeIndex: 1267 entries, 0 to 1266\n",
      "Data columns (total 2 columns):\n",
      " #   Column     Non-Null Count  Dtype \n",
      "---  ------     --------------  ----- \n",
      " 0   label      1267 non-null   object\n",
      " 1   statement  1267 non-null   object\n",
      "dtypes: object(2)\n",
      "memory usage: 19.9+ KB\n",
      "None\n",
      "        label                                          statement\n",
      "0        true      build wall u.s.-mexico border take liter year\n",
      "1       false            wisconsin pace doubl number layoff year\n",
      "2       false                     john mccain done noth help vet\n",
      "3   half-true  suzann bonamici support plan cut choic medicar...\n",
      "4  pants-fire  ask report whether he center crimin scheme vio...\n",
      "\n",
      "\n",
      "\n",
      "Validation Dataset\n",
      "<class 'pandas.core.frame.DataFrame'>\n",
      "RangeIndex: 1284 entries, 0 to 1283\n",
      "Data columns (total 2 columns):\n",
      " #   Column     Non-Null Count  Dtype \n",
      "---  ------     --------------  ----- \n",
      " 0   label      1284 non-null   object\n",
      " 1   statement  1284 non-null   object\n",
      "dtypes: object(2)\n",
      "memory usage: 20.2+ KB\n",
      "None\n",
      "         label                                          statement\n",
      "0  barely-true                              less american work 70\n",
      "1   pants-fire  obama sworn offic use holi bibl instead kuran ...\n",
      "2        false  organ parad social welfar organ involv polit c...\n",
      "3    half-true                   nearli half oregon children poor\n",
      "4    half-true  attack republican variou program econom stimul...\n",
      "\n",
      "\n",
      "\n"
     ]
    }
   ],
   "source": [
    "obs(clean_train, clean_test, clean_valid)"
   ]
  },
  {
   "cell_type": "code",
   "execution_count": 26,
   "id": "bb972e69-61a2-4251-b9cf-6ea5888dc90f",
   "metadata": {},
   "outputs": [],
   "source": [
    "def clean_labels(dataset):\n",
    "    for i, v in dataset.iterrows():\n",
    "        if dataset['label'][i]=='mostly-true' or dataset['label'][i]=='half-true' or dataset['label'][i]=='true' :\n",
    "            dataset['label'][i]='true'\n",
    "        else:\n",
    "            dataset['label'][i]='false'\n",
    "    return dataset"
   ]
  },
  {
   "cell_type": "code",
   "execution_count": 27,
   "id": "32865112-61c9-4e56-ab83-1ed4e667094c",
   "metadata": {},
   "outputs": [],
   "source": [
    "clean_train = clean_labels(clean_train)\n",
    "clean_test = clean_labels(clean_test)\n",
    "clean_valid = clean_labels(clean_valid)"
   ]
  },
  {
   "cell_type": "code",
   "execution_count": 28,
   "id": "412a922a-13c7-48b0-adc7-6f920b24a6a8",
   "metadata": {},
   "outputs": [
    {
     "name": "stdout",
     "output_type": "stream",
     "text": [
      "Training Dataset\n",
      "<class 'pandas.core.frame.DataFrame'>\n",
      "RangeIndex: 10240 entries, 0 to 10239\n",
      "Data columns (total 2 columns):\n",
      " #   Column     Non-Null Count  Dtype \n",
      "---  ------     --------------  ----- \n",
      " 0   label      10240 non-null  object\n",
      " 1   statement  10240 non-null  object\n",
      "dtypes: object(2)\n",
      "memory usage: 160.1+ KB\n",
      "None\n",
      "   label                                          statement\n",
      "0  false  anni list polit group support third-trimest ab...\n",
      "1   true  declin coal start ? start natur ga took start ...\n",
      "2   true  hillari clinton agr john mccain `` vote give g...\n",
      "3  false  health care reform legisl like mandat free sex...\n",
      "4   true                   econom turnaround start end term\n",
      "\n",
      "\n",
      "\n",
      "Testing Dataset\n",
      "<class 'pandas.core.frame.DataFrame'>\n",
      "RangeIndex: 1267 entries, 0 to 1266\n",
      "Data columns (total 2 columns):\n",
      " #   Column     Non-Null Count  Dtype \n",
      "---  ------     --------------  ----- \n",
      " 0   label      1267 non-null   object\n",
      " 1   statement  1267 non-null   object\n",
      "dtypes: object(2)\n",
      "memory usage: 19.9+ KB\n",
      "None\n",
      "   label                                          statement\n",
      "0   true      build wall u.s.-mexico border take liter year\n",
      "1  false            wisconsin pace doubl number layoff year\n",
      "2  false                     john mccain done noth help vet\n",
      "3   true  suzann bonamici support plan cut choic medicar...\n",
      "4  false  ask report whether he center crimin scheme vio...\n",
      "\n",
      "\n",
      "\n",
      "Validation Dataset\n",
      "<class 'pandas.core.frame.DataFrame'>\n",
      "RangeIndex: 1284 entries, 0 to 1283\n",
      "Data columns (total 2 columns):\n",
      " #   Column     Non-Null Count  Dtype \n",
      "---  ------     --------------  ----- \n",
      " 0   label      1284 non-null   object\n",
      " 1   statement  1284 non-null   object\n",
      "dtypes: object(2)\n",
      "memory usage: 20.2+ KB\n",
      "None\n",
      "   label                                          statement\n",
      "0  false                              less american work 70\n",
      "1  false  obama sworn offic use holi bibl instead kuran ...\n",
      "2  false  organ parad social welfar organ involv polit c...\n",
      "3   true                   nearli half oregon children poor\n",
      "4   true  attack republican variou program econom stimul...\n",
      "\n",
      "\n",
      "\n"
     ]
    }
   ],
   "source": [
    "obs(clean_train, clean_test, clean_valid)"
   ]
  },
  {
   "cell_type": "code",
   "execution_count": 29,
   "id": "d9626b9f-d708-4cb1-9c8d-d7b882d8c502",
   "metadata": {},
   "outputs": [],
   "source": [
    "write_dir = os.path.join(os.getcwd(), 'cleaned_data')\n",
    "\n",
    "if os.path.isdir(write_dir):\n",
    "    shutil.rmtree(write_dir)\n",
    "os.mkdir(write_dir)\n",
    "\n",
    "clean_train.to_csv(os.path.join(write_dir, 'train.csv'), index=False)\n",
    "clean_test.to_csv(os.path.join(write_dir, 'test.csv'), index=False)\n",
    "clean_valid.to_csv(os.path.join(write_dir, 'valid.csv'), index=False)"
   ]
  },
  {
   "cell_type": "code",
   "execution_count": null,
   "id": "181c8c7b-dcea-436d-b3df-5b34f2cd818c",
   "metadata": {},
   "outputs": [],
   "source": []
  }
 ],
 "metadata": {
  "kernelspec": {
   "display_name": "Python 3 (ipykernel)",
   "language": "python",
   "name": "python3"
  },
  "language_info": {
   "codemirror_mode": {
    "name": "ipython",
    "version": 3
   },
   "file_extension": ".py",
   "mimetype": "text/x-python",
   "name": "python",
   "nbconvert_exporter": "python",
   "pygments_lexer": "ipython3",
   "version": "3.9.9"
  }
 },
 "nbformat": 4,
 "nbformat_minor": 5
}
